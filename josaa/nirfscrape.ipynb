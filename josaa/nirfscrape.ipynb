{
 "cells": [
  {
   "cell_type": "code",
   "execution_count": 3,
   "metadata": {},
   "outputs": [],
   "source": [
    "# Hardcoding details\n",
    "import pandas as pd\n",
    "namelist = ['Madras', 'Bombay', 'Kharagpur', 'New Delhi', 'Kanpur',\n",
    "            'Roorkee', 'Hyderabad', 'Gandhinagar', 'Ropar', 'Patna']\n",
    "scorelist = [89.41, 87.66, 83.91, 82.02,\n",
    "             81.07, 78.68, 77.22, 75.20, 74.88, 74.68]\n",
    "ranklist = list(range(1, 11))\n",
    "\n",
    "df = pd.DataFrame()\n",
    "df['Name'] = namelist\n",
    "df['Rank'] = ranklist\n",
    "df['score'] = scorelist\n"
   ]
  },
  {
   "cell_type": "code",
   "execution_count": 4,
   "metadata": {},
   "outputs": [],
   "source": [
    "# qsrank = [3,1,5,2,4,6,8, ]\n",
    "df = df.sort_values(by='Name')\n",
    "df.to_csv('nirfdata.csv')\n"
   ]
  },
  {
   "cell_type": "code",
   "execution_count": null,
   "metadata": {},
   "outputs": [],
   "source": []
  }
 ],
 "metadata": {
  "kernelspec": {
   "display_name": "Python 3",
   "language": "python",
   "name": "python3"
  },
  "language_info": {
   "codemirror_mode": {
    "name": "ipython",
    "version": 3
   },
   "file_extension": ".py",
   "mimetype": "text/x-python",
   "name": "python",
   "nbconvert_exporter": "python",
   "pygments_lexer": "ipython3",
   "version": "3.9.13"
  },
  "orig_nbformat": 4
 },
 "nbformat": 4,
 "nbformat_minor": 2
}
